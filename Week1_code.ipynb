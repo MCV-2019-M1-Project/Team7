{
 "cells": [
  {
   "cell_type": "markdown",
   "metadata": {},
   "source": [
    "# TASK 1 - Compute image descriptors (QS1)"
   ]
  },
  {
   "cell_type": "code",
   "execution_count": 22,
   "metadata": {},
   "outputs": [],
   "source": [
    "import cv2\n",
    "import numpy as np\n",
    "from matplotlib import pyplot as plt\n",
    "from os.path import isfile, join\n",
    "from os import listdir\n"
   ]
  },
  {
   "cell_type": "markdown",
   "metadata": {},
   "source": [
    "### Calcular els histogrames de totes les imatges de la carpeta especificada a \"imagesFolder\"\n",
    "Aquí la idea es fer el bucle que recorre totes les imatges i calcula el histograma de cadascuna d'elles, afegint el resultat a una matriu d'histogrames que després ens servirán per calcular les \"Similarity measures\".\n",
    "Cada fila correspondrà a una imatge. "
   ]
  },
  {
   "cell_type": "code",
   "execution_count": 51,
   "metadata": {
    "scrolled": true
   },
   "outputs": [
    {
     "name": "stdout",
     "output_type": "stream",
     "text": [
      "(1, 256)\n",
      "******************************************************************************\n",
      "IMAGE: architectural-design-architecture-buildings-374811.jpg\n",
      "******************************************************************************\n",
      "(1, 256)\n",
      "(1, 256)\n",
      "(1, 256)\n",
      "******************************************************************************\n",
      "IMAGE: Captura de pantalla 2019-05-25 a las 10.49.08.png\n",
      "******************************************************************************\n",
      "(1, 256)\n",
      "(1, 256)\n",
      "(1, 256)\n",
      "******************************************************************************\n",
      "IMAGE: adventure-ball-shaped-blur-346885.jpg\n",
      "******************************************************************************\n",
      "(1, 256)\n",
      "(1, 256)\n",
      "(1, 256)\n",
      "******************************************************************************\n",
      "IMAGE: Captura de pantalla 2019-08-22 a las 13.09.17 (2).png\n",
      "******************************************************************************\n",
      "(1, 256)\n",
      "(1, 256)\n",
      "(1, 256)\n"
     ]
    }
   ],
   "source": [
    "imagesFolder = \"./IMAGES/\"\n",
    "histogram_matrix = np.empty([1, 256]) #Creem una matriu buida\n",
    "print(histogram_matrix.shape)\n",
    "for filename in listdir(imagesFolder):\n",
    "    if(filename != '.DS_Store' ):\n",
    "        print(\"******************************************************************************\")\n",
    "        print(\"IMAGE: \" + filename)\n",
    "        print(\"******************************************************************************\")\n",
    "\n",
    "        img = cv2.imread(imagesFolder + filename)\n",
    "        color = ('b','g','r')\n",
    "        for i,col in enumerate(color):\n",
    "            hist = cv2.calcHist([query_img],[i],None,[256],[0,256])\n",
    "            hist_t = hist.transpose()\n",
    "            print(hist_t.shape)\n",
    "            histogram_matrix = np.vstack((histogram_matrix, hist_t))   "
   ]
  },
  {
   "cell_type": "code",
   "execution_count": 54,
   "metadata": {},
   "outputs": [
    {
     "name": "stdout",
     "output_type": "stream",
     "text": [
      "(13, 256)\n"
     ]
    }
   ],
   "source": [
    "print(histogram_matrix.shape)"
   ]
  },
  {
   "cell_type": "markdown",
   "metadata": {},
   "source": [
    "### Calcular el histograma de la imatge amb la qual es fa la consulta"
   ]
  },
  {
   "cell_type": "code",
   "execution_count": 11,
   "metadata": {
    "scrolled": false
   },
   "outputs": [
    {
     "data": {
      "image/png": "[encoded data removed]",
      "text/plain": [
       "<Figure size 432x288 with 1 Axes>"
      ]
     },
     "metadata": {
      "needs_background": "light"
     },
     "output_type": "display_data"
    }
   ],
   "source": [
    "query_img = cv2.imread('./image1.jpg')\n",
    "color = ('b','g','r')\n",
    "for i,col in enumerate(color):\n",
    "    histr = cv2.calcHist([query_img],[i],None,[256],[0,256])\n",
    "    plt.plot(histr,color = col)\n",
    "    plt.xlim([0,256])\n",
    "plt.show()"
   ]
  },
  {
   "cell_type": "code",
   "execution_count": 12,
   "metadata": {
    "scrolled": true
   },
   "outputs": [
    {
     "name": "stdout",
     "output_type": "stream",
     "text": [
      "[[137490.]\n",
      " [ 29425.]\n",
      " [ 28256.]\n",
      " [ 25239.]\n",
      " [ 21521.]\n",
      " [ 17607.]\n",
      " [ 13713.]\n",
      " [ 10580.]\n",
      " [  8378.]\n",
      " [  6645.]\n",
      " [  5400.]\n",
      " [  4649.]\n",
      " [  4234.]\n",
      " [  3925.]\n",
      " [  3844.]\n",
      " [  3654.]\n",
      " [  3823.]\n",
      " [  3697.]\n",
      " [  3776.]\n",
      " [  3898.]\n",
      " [  3930.]\n",
      " [  4144.]\n",
      " [  4265.]\n",
      " [  4446.]\n",
      " [  4682.]\n",
      " [  4747.]\n",
      " [  5088.]\n",
      " [  5222.]\n",
      " [  5622.]\n",
      " [  5717.]\n",
      " [  5976.]\n",
      " [  6497.]\n",
      " [  6733.]\n",
      " [  6857.]\n",
      " [  7315.]\n",
      " [  7534.]\n",
      " [  7709.]\n",
      " [  8032.]\n",
      " [  8129.]\n",
      " [  8255.]\n",
      " [  8515.]\n",
      " [  8620.]\n",
      " [  8899.]\n",
      " [  9037.]\n",
      " [  9225.]\n",
      " [  9181.]\n",
      " [  9284.]\n",
      " [  9342.]\n",
      " [  9312.]\n",
      " [  9327.]\n",
      " [  9456.]\n",
      " [  9486.]\n",
      " [  9459.]\n",
      " [  9468.]\n",
      " [  9433.]\n",
      " [  9535.]\n",
      " [  9602.]\n",
      " [  9830.]\n",
      " [  9771.]\n",
      " [  9765.]\n",
      " [ 10005.]\n",
      " [  9911.]\n",
      " [ 10199.]\n",
      " [ 10275.]\n",
      " [ 10540.]\n",
      " [ 10438.]\n",
      " [ 10668.]\n",
      " [ 10961.]\n",
      " [ 11019.]\n",
      " [ 11506.]\n",
      " [ 11481.]\n",
      " [ 11923.]\n",
      " [ 11935.]\n",
      " [ 12247.]\n",
      " [ 12449.]\n",
      " [ 12942.]\n",
      " [ 13128.]\n",
      " [ 13411.]\n",
      " [ 13742.]\n",
      " [ 14193.]\n",
      " [ 14501.]\n",
      " [ 15066.]\n",
      " [ 15492.]\n",
      " [ 15986.]\n",
      " [ 16401.]\n",
      " [ 17027.]\n",
      " [ 17535.]\n",
      " [ 17788.]\n",
      " [ 18680.]\n",
      " [ 19005.]\n",
      " [ 19925.]\n",
      " [ 20113.]\n",
      " [ 21066.]\n",
      " [ 21448.]\n",
      " [ 22274.]\n",
      " [ 23089.]\n",
      " [ 23753.]\n",
      " [ 24296.]\n",
      " [ 25092.]\n",
      " [ 25852.]\n",
      " [ 26201.]\n",
      " [ 26904.]\n",
      " [ 27229.]\n",
      " [ 27741.]\n",
      " [ 28247.]\n",
      " [ 28849.]\n",
      " [ 29429.]\n",
      " [ 29743.]\n",
      " [ 30279.]\n",
      " [ 30621.]\n",
      " [ 31290.]\n",
      " [ 31738.]\n",
      " [ 32698.]\n",
      " [ 33836.]\n",
      " [ 34335.]\n",
      " [ 35122.]\n",
      " [ 36568.]\n",
      " [ 37656.]\n",
      " [ 38732.]\n",
      " [ 40370.]\n",
      " [ 41963.]\n",
      " [ 43716.]\n",
      " [ 45927.]\n",
      " [ 48057.]\n",
      " [ 50759.]\n",
      " [ 54220.]\n",
      " [ 56668.]\n",
      " [ 60266.]\n",
      " [ 65056.]\n",
      " [ 68893.]\n",
      " [ 73801.]\n",
      " [ 78104.]\n",
      " [ 83430.]\n",
      " [ 89157.]\n",
      " [ 94409.]\n",
      " [ 99929.]\n",
      " [105260.]\n",
      " [110002.]\n",
      " [115340.]\n",
      " [119750.]\n",
      " [123571.]\n",
      " [128079.]\n",
      " [131293.]\n",
      " [133914.]\n",
      " [136911.]\n",
      " [140168.]\n",
      " [142253.]\n",
      " [143952.]\n",
      " [145494.]\n",
      " [148338.]\n",
      " [150004.]\n",
      " [151632.]\n",
      " [152663.]\n",
      " [153663.]\n",
      " [155233.]\n",
      " [157130.]\n",
      " [157661.]\n",
      " [159008.]\n",
      " [159758.]\n",
      " [161390.]\n",
      " [161669.]\n",
      " [163327.]\n",
      " [164293.]\n",
      " [165804.]\n",
      " [168023.]\n",
      " [168564.]\n",
      " [169149.]\n",
      " [171032.]\n",
      " [172536.]\n",
      " [173744.]\n",
      " [174645.]\n",
      " [175183.]\n",
      " [176364.]\n",
      " [176612.]\n",
      " [177909.]\n",
      " [179523.]\n",
      " [181666.]\n",
      " [182295.]\n",
      " [185369.]\n",
      " [187856.]\n",
      " [190624.]\n",
      " [193770.]\n",
      " [196895.]\n",
      " [198582.]\n",
      " [199866.]\n",
      " [201147.]\n",
      " [203223.]\n",
      " [203943.]\n",
      " [203527.]\n",
      " [202497.]\n",
      " [201712.]\n",
      " [200632.]\n",
      " [200088.]\n",
      " [197152.]\n",
      " [196249.]\n",
      " [194267.]\n",
      " [193059.]\n",
      " [190479.]\n",
      " [190040.]\n",
      " [190779.]\n",
      " [191527.]\n",
      " [192908.]\n",
      " [196158.]\n",
      " [200263.]\n",
      " [205083.]\n",
      " [208460.]\n",
      " [213582.]\n",
      " [215871.]\n",
      " [216928.]\n",
      " [214802.]\n",
      " [209797.]\n",
      " [201361.]\n",
      " [189473.]\n",
      " [175455.]\n",
      " [158160.]\n",
      " [140101.]\n",
      " [122143.]\n",
      " [104489.]\n",
      " [ 88740.]\n",
      " [ 74843.]\n",
      " [ 62938.]\n",
      " [ 52718.]\n",
      " [ 44380.]\n",
      " [ 37861.]\n",
      " [ 32794.]\n",
      " [ 28205.]\n",
      " [ 24962.]\n",
      " [ 21907.]\n",
      " [ 19265.]\n",
      " [ 17229.]\n",
      " [ 15313.]\n",
      " [ 13758.]\n",
      " [ 12264.]\n",
      " [ 11203.]\n",
      " [ 10295.]\n",
      " [  9546.]\n",
      " [  8886.]\n",
      " [  8416.]\n",
      " [  8005.]\n",
      " [  7630.]\n",
      " [  7433.]\n",
      " [  7298.]\n",
      " [  7383.]\n",
      " [  7384.]\n",
      " [  7481.]\n",
      " [  7904.]\n",
      " [  8246.]\n",
      " [  8571.]\n",
      " [  9096.]\n",
      " [  9798.]\n",
      " [ 10421.]\n",
      " [ 10983.]\n",
      " [ 11350.]\n",
      " [ 11772.]\n",
      " [ 11178.]\n",
      " [ 38820.]]\n"
     ]
    }
   ],
   "source": [
    "histr = cv2.calcHist([img],[i],None,[256],[0,256])\n",
    "print(histr)"
   ]
  },
  {
   "cell_type": "code",
   "execution_count": 9,
   "metadata": {},
   "outputs": [
    {
     "name": "stdout",
     "output_type": "stream",
     "text": [
      "256\n"
     ]
    }
   ],
   "source": [
    "# HISTOGRAM LENGTH\n",
    "print(len(histr))"
   ]
  },
  {
   "cell_type": "code",
   "execution_count": 34,
   "metadata": {},
   "outputs": [
    {
     "name": "stdout",
     "output_type": "stream",
     "text": [
      "[]\n"
     ]
    }
   ],
   "source": [
    "A = np.array([])\n",
    "print(A)"
   ]
  },
  {
   "cell_type": "markdown",
   "metadata": {},
   "source": [
    "# TASK 2 - Similarity measures"
   ]
  },
  {
   "cell_type": "code",
   "execution_count": null,
   "metadata": {},
   "outputs": [],
   "source": []
  }
 ],
 "metadata": {
  "kernelspec": {
   "display_name": "Python 3",
   "language": "python",
   "name": "python3"
  },
  "language_info": {
   "codemirror_mode": {
    "name": "ipython",
    "version": 3
   },
   "file_extension": ".py",
   "mimetype": "text/x-python",
   "name": "python",
   "nbconvert_exporter": "python",
   "pygments_lexer": "ipython3",
   "version": "3.7.3"
  }
 },
 "nbformat": 4,
 "nbformat_minor": 2
}
