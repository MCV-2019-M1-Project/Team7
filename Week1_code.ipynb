{
 "cells": [
  {
   "cell_type": "code",
   "execution_count": 2,
   "metadata": {},
   "outputs": [],
   "source": [
    "import cv2\n",
    "import numpy as np\n",
    "np.set_printoptions(threshold=np.inf)\n",
    "from matplotlib import pyplot as plt\n",
    "from os.path import isfile, join\n",
    "from os import listdir\n",
    "from sklearn import preprocessing\n",
    "from skimage import filters"
   ]
  },
  {
   "cell_type": "markdown",
   "metadata": {},
   "source": [
    "# TASK 1 - Compute image descriptors (QS1)"
   ]
  },
  {
   "cell_type": "markdown",
   "metadata": {},
   "source": [
    "### Calcular els histogrames de totes les imatges de la carpeta especificada a \"imagesFolder\"\n",
    "Aquí la idea es fer el bucle que recorre totes les imatges i calcula el histograma de cadascuna d'elles, afegint el resultat a una matriu d'histogrames que després ens servirán per calcular les \"Similarity measures\".\n",
    "Cada fila correspondrà a una imatge. "
   ]
  },
  {
   "cell_type": "code",
   "execution_count": null,
   "metadata": {
    "scrolled": true
   },
   "outputs": [],
   "source": [
    "imagesFolder = \"./bbdd/\"\n",
    "histogram_bbdd_matrix = np.empty([0, 256*3]) #Creem una matriu buida\n",
    "print(histogram_bbdd_matrix.shape)\n",
    "for filename in sorted(listdir(imagesFolder)):\n",
    "    if(filename != '.DS_Store'):\n",
    "        print(\"******************************************************************************\")\n",
    "        print(\"IMAGE: \" + filename)\n",
    "        print(\"******************************************************************************\")\n",
    "\n",
    "        img = cv2.imread(imagesFolder + filename)\n",
    "        img = cv2.cvtColor(img,cv2.COLOR_BGR2Lab)\n",
    "        \n",
    "        colorx = ('x','y','z')\n",
    "        hist_img = np.empty([0,0])\n",
    "        for i,col in enumerate(colorx):\n",
    "            hist = cv2.calcHist([img],[i],None,[256],[0,256]) #Calculem histogrames\n",
    "            hist = preprocessing.normalize(hist, norm='max') #Normalitzem histogrames\n",
    "            hist_t = hist.transpose()\n",
    "            print(hist_t.shape)\n",
    "            if i == 0:\n",
    "                hist_img = hist_t\n",
    "            else:\n",
    "                hist_img = np.concatenate((hist_img, hist_t), axis = 1)\n",
    "            \n",
    "        histogram_bbdd_matrix = np.vstack((histogram_bbdd_matrix, hist_img))   "
   ]
  },
  {
   "cell_type": "code",
   "execution_count": null,
   "metadata": {
    "scrolled": true
   },
   "outputs": [],
   "source": [
    "print(histogram_bbdd_matrix.shape)"
   ]
  },
  {
   "cell_type": "markdown",
   "metadata": {},
   "source": [
    "### Calcular els histogrames de totes les imatges de la carpeta de query (qsd1_w1)"
   ]
  },
  {
   "cell_type": "code",
   "execution_count": null,
   "metadata": {
    "scrolled": true
   },
   "outputs": [],
   "source": [
    "queryFolder = \"./qsd1_w1/\"\n",
    "histogram_query_matrix = np.empty([0, 256*3])\n",
    "for filename in sorted(listdir(queryFolder)):\n",
    "    if(filename != '.DS_Store' and (filename.split('.')[1] == 'jpg' or filename.split('.')[1] == 'png')):\n",
    "        print(\"******************************************************************************\")\n",
    "        print(\"./qsd1_w1/\" + filename)\n",
    "        print(\"******************************************************************************\")\n",
    "\n",
    "        query_img = cv2.imread(queryFolder + filename)\n",
    "        query_img = cv2.cvtColor(query_img,cv2.COLOR_BGR2Lab)\n",
    "        color = ('b','g','r')\n",
    "        hist_query = np.empty([0, 256*3])\n",
    "        \n",
    "        for i,col in enumerate(color):\n",
    "            histr = cv2.calcHist([query_img],[i],None,[256],[0,256])\n",
    "            histr = preprocessing.normalize(histr, norm='max')\n",
    "            histr = histr.transpose()\n",
    "            if i == 0:\n",
    "                hist_query = histr\n",
    "            else:\n",
    "                hist_query = np.concatenate((hist_query,histr), axis = 1)\n",
    "        \n",
    "        histogram_query_matrix = np.vstack((histogram_query_matrix, hist_query))\n",
    "    \n"
   ]
  },
  {
   "cell_type": "code",
   "execution_count": null,
   "metadata": {},
   "outputs": [],
   "source": [
    "print(histogram_query_matrix.shape)"
   ]
  },
  {
   "cell_type": "markdown",
   "metadata": {},
   "source": [
    "# TASK 2 - Similarity measures"
   ]
  },
  {
   "cell_type": "markdown",
   "metadata": {},
   "source": [
    "### Euclidean distance"
   ]
  },
  {
   "cell_type": "code",
   "execution_count": null,
   "metadata": {
    "scrolled": false
   },
   "outputs": [],
   "source": [
    "from scipy.spatial import distance\n",
    "\n",
    "dst = np.zeros((30, 279))\n",
    "matrix_retrieval = np.zeros((30,10))\n",
    "\n",
    "for query_image_index in range(0,len(histogram_query_matrix)): \n",
    "    for bbdd_image_index in range(0, len(histogram_bbdd_matrix)):\n",
    "        \n",
    "        #Euclidian distance 1\n",
    "        dst[query_image_index,bbdd_image_index] = distance.euclidean(histogram_query_matrix[query_image_index,:], histogram_bbdd_matrix[bbdd_image_index,:])\n",
    "        \n",
    "        #Euclidian distance 2\n",
    "        dst[query_image_index,bbdd_image_index] = np.linalg.norm(histogram_query_matrix[query_image_index,:] - histogram_bbdd_matrix[bbdd_image_index,:], ord=1)\n",
    "        \n",
    "        #Bray Curtis Distance\n",
    "        dst[query_image_index,bbdd_image_index] = distance.braycurtis(histogram_query_matrix[query_image_index,:], histogram_bbdd_matrix[bbdd_image_index,:])\n",
    "    \n",
    "    matrix_retrieval[query_image_index,:] = np.argsort(dst[query_image_index,:])[:10]\n",
    "\n",
    "print(matrix_retrieval)"
   ]
  },
  {
   "cell_type": "markdown",
   "metadata": {},
   "source": [
    "# Task 4"
   ]
  },
  {
   "cell_type": "code",
   "execution_count": null,
   "metadata": {},
   "outputs": [],
   "source": [
    "import ml_metrics as metrics\n",
    "import pickle\n",
    "\n",
    "with open('./qsd1_w1/gt_corresps.pkl', 'rb') as fd:\n",
    "        ll = pickle.load(fd)\n",
    "        print(ll)\n",
    "\n",
    "#Convertir idx(numpy) a list of lists\n",
    "matrix_retrieval_lst = matrix_retrieval.tolist()\n",
    "\n",
    "#print(matrix_retrieval_lst)\n",
    "\n",
    "ll_prp = np.zeros((len(ll),1))\n",
    "\n",
    "for i in range(0,len(ll)):\n",
    "    ll_prp[i] = ll[i][0][1]\n",
    "\n",
    "ll_prp_lst = ll_prp.tolist()\n",
    "\n",
    "mapak = metrics.average_precision.mapk(ll_prp_lst, matrix_retrieval_lst, k=10)        \n",
    "\n",
    "print(mapak)"
   ]
  },
  {
   "cell_type": "markdown",
   "metadata": {},
   "source": [
    "# Task 5"
   ]
  },
  {
   "cell_type": "code",
   "execution_count": null,
   "metadata": {},
   "outputs": [],
   "source": [
    "queryFolder = \"./qsd2_w1/\"\n",
    "for filename in sorted(listdir(queryFolder)):\n",
    "    if(filename != '.DS_Store' and (filename.split('.')[1] == 'jpg')):\n",
    "        print(\"******************************************************************************\")\n",
    "        print(\"./qsd2_w1/\" + filename)\n",
    "        print(\"******************************************************************************\")\n",
    "\n",
    "        query_img2 = cv2.imread(queryFolder + filename)\n",
    "        gray = cv2.cvtColor(query_img2, cv2.COLOR_BGR2GRAY)\n",
    "        \n",
    "        sobel = filters.sobel(gray)\n",
    "        \n",
    "        plt.rcParams['image.interpolation'] = 'nearest'\n",
    "        plt.rcParams['image.cmap'] = 'gray'\n",
    "        plt.rcParams['figure.dpi'] = 200\n",
    "        \n",
    "        blurred = filters.gaussian(sobel, sigma=2.0)\n",
    "        \n",
    "        med = filters.median(blurred)\n",
    "        thresh, blackAndWhiteImage = cv2.threshold(med, 5, 255, cv2.THRESH_BINARY)\n",
    "        \n",
    "        maximum = np.max(blurred)\n",
    "        minimum = np.min(blurred)\n",
    "\n",
    "        kernel = np.ones((5, 5), np.uint8)\n",
    "        erosion1 = cv2.erode(blackAndWhiteImage, kernel, iterations=1)\n",
    "        dilation1 = cv2.dilate(erosion1, kernel, iterations=1)\n",
    "\n",
    "        cv2.imwrite(query_img2, blackAndWhiteImage)\n",
    "    "
   ]
  },
  {
   "cell_type": "code",
   "execution_count": null,
   "metadata": {},
   "outputs": [],
   "source": [
    "query_img2 = cv2.imread('./qsd2_w1/00007.jpg')\n",
    "gray = cv2.cvtColor(query_img2, cv2.COLOR_BGR2GRAY)\n",
    "        \n",
    "sobel = filters.sobel(gray)\n",
    "        \n",
    "plt.rcParams['image.interpolation'] = 'nearest'\n",
    "plt.rcParams['image.cmap'] = 'gray'\n",
    "plt.rcParams['figure.dpi'] = 200\n",
    "\n",
    "blurred = filters.gaussian(sobel, sigma=2.0)\n",
    "        \n",
    "med = filters.median(blurred)\n",
    "thresh, blackAndWhiteImage = cv2.threshold(med, 5, 255, cv2.THRESH_BINARY)\n",
    "        \n",
    "maximum = np.max(blurred)\n",
    "minimum = np.min(blurred)\n",
    "\n",
    "kernel = np.ones((5, 5), np.uint8)\n",
    "erosion1 = cv2.erode(blackAndWhiteImage, kernel, iterations=1)\n",
    "dilation1 = cv2.dilate(erosion1, kernel, iterations=1)\n",
    "\n",
    "plt.imshow(dilation1)\n",
    "#cv2.imwrite(query_img2, blackAndWhiteImage)\n",
    "    "
   ]
  },
  {
   "cell_type": "code",
   "execution_count": null,
   "metadata": {},
   "outputs": [],
   "source": [
    "query_img2 = cv2.imread('./qsd2_w1/00000.jpg')\n",
    "gray = cv2.cvtColor(query_img2, cv2.COLOR_BGR2GRAY)\n",
    "\n",
    "ret, thresh = cv2.threshold(gray,0,255,cv2.THRESH_BINARY_INV+cv2.THRESH_OTSU)\n",
    "\n",
    "# noise removal\n",
    "kernel = np.ones((3,3),np.uint8)\n",
    "opening = cv2.morphologyEx(thresh,cv2.MORPH_OPEN,kernel, iterations = 2)\n",
    "\n",
    "# sure background area\n",
    "sure_bg = cv2.dilate(opening,kernel,iterations=3)\n",
    "\n",
    "# Finding sure foreground area\n",
    "dist_transform = cv2.distanceTransform(opening,cv2.DIST_L2,5)\n",
    "ret, sure_fg = cv2.threshold(dist_transform,0.7*dist_transform.max(),255,0)\n",
    "\n",
    "# Finding unknown region\n",
    "sure_fg = np.uint8(sure_fg)\n",
    "unknown = cv2.subtract(sure_bg,sure_fg)\n",
    "\n",
    "# Marker labelling\n",
    "ret, markers = cv2.connectedComponents(sure_bg)\n",
    "\n",
    "# Add one to all labels so that sure background is not 0, but 1\n",
    "markers = markers+1\n",
    "\n",
    "# Now, mark the region of unknown with zero\n",
    "markers[unknown==255] = 0\n",
    "\n",
    "markers = cv2.watershed(query_img2,markers)\n",
    "query_img2[markers == -1] = [255,0,0]\n",
    "\n",
    "plt.imshow(markers)\n"
   ]
  },
  {
   "cell_type": "code",
   "execution_count": null,
   "metadata": {},
   "outputs": [],
   "source": [
    "print(query_img2.shape)"
   ]
  },
  {
   "cell_type": "code",
   "execution_count": null,
   "metadata": {},
   "outputs": [],
   "source": [
    "print(len(query_img2))"
   ]
  },
  {
   "cell_type": "code",
   "execution_count": null,
   "metadata": {},
   "outputs": [],
   "source": [
    "query_img2 = cv2.imread('./qsd2_w1/00000.jpg')\n",
    "gray = cv2.cvtColor(query_img2, cv2.COLOR_BGR2GRAY)\n",
    "\n",
    "shifted = cv2.pyrMeanShiftFiltering(query_img2, 250, 50)\n",
    "\n",
    "gray = cv2.cvtColor(shifted, cv2.COLOR_BGR2GRAY)\n",
    "thresh = cv2.threshold(gray, 0, 255, cv2.THRESH_BINARY + cv2.THRESH_OTSU)[1]\n",
    "\n",
    "plt.imshow(thresh)\n",
    "\n",
    "\n"
   ]
  },
  {
   "cell_type": "code",
   "execution_count": null,
   "metadata": {},
   "outputs": [],
   "source": []
  }
 ],
 "metadata": {
  "kernelspec": {
   "display_name": "Python 3",
   "language": "python",
   "name": "python3"
  },
  "language_info": {
   "codemirror_mode": {
    "name": "ipython",
    "version": 3
   },
   "file_extension": ".py",
   "mimetype": "text/x-python",
   "name": "python",
   "nbconvert_exporter": "python",
   "pygments_lexer": "ipython3",
   "version": "3.7.3"
  }
 },
 "nbformat": 4,
 "nbformat_minor": 2
}
